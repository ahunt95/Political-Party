{
 "cells": [
  {
   "cell_type": "code",
   "execution_count": 80,
   "metadata": {},
   "outputs": [],
   "source": [
    "import numpy as np\n",
    "import pandas as pd\n",
    "from bs4 import BeautifulSoup\n",
    "import requests\n",
    "import re\n",
    "from collections import OrderedDict\n",
    "\n",
    "'''\n",
    "Scrape Speeches from the NPR website. NPR lists speeches under a series. Input\n",
    "this URL into the function and the corresponding party\n",
    "'''"
   ]
  },
  {
   "cell_type": "code",
   "execution_count": 81,
   "metadata": {},
   "outputs": [],
   "source": [
    "source = requests.get('https://www.npr.org/series/94216845/speeches-from-the-republican-convention').text\n",
    "soup = BeautifulSoup(source, 'lxml')"
   ]
  },
  {
   "cell_type": "code",
   "execution_count": 83,
   "metadata": {
    "scrolled": false
   },
   "outputs": [
    {
     "name": "stdout",
     "output_type": "stream",
     "text": [
      "['https://www.npr.org/templates/story/story.php?storyId=94302894', 'https://www.npr.org/templates/story/story.php?storyId=94301516', 'https://www.npr.org/templates/story/story.php?storyId=94303964', 'https://www.npr.org/templates/story/story.php?storyId=94258995', 'https://www.npr.org/templates/story/story.php?storyId=94254610', 'https://www.npr.org/templates/story/story.php?storyId=94256318', 'https://www.npr.org/templates/story/story.php?storyId=94254989', 'https://www.npr.org/templates/story/story.php?storyId=94215430', 'https://www.npr.org/templates/story/story.php?storyId=94215026', 'https://www.npr.org/templates/story/story.php?storyId=94213979']\n"
     ]
    }
   ],
   "source": [
    "links = []\n",
    "for link in soup.findAll('a', attrs={'href': re.compile(\"https://www.npr.org/templates/story\")}):\n",
    "    links.append(link.get('href'))\n",
    "\n",
    "# This method appends duplicates to the links list. Remove those\n",
    "links = list(OrderedDict.fromkeys(links))\n",
    "print(links)"
   ]
  },
  {
   "cell_type": "code",
   "execution_count": 109,
   "metadata": {},
   "outputs": [
    {
     "name": "stdout",
     "output_type": "stream",
     "text": [
      "[\"John McCain's Speech\", \"Cindy McCain's Speech\", 'South Carolina Sen. Lindsey Graham', 'Gov. Sarah Palin At The RNC', 'Former New York Mayor Rudy Giuliani', 'Mike Huckabee At The RNC', 'Mitt Romney At The RNC', 'President Bush At The RNC', \"Former Sen. Fred Thompson's Speech\", \"Sen. Joseph Lieberman's Speech\"]\n",
      "John McCain's Speech\n",
      "Cindy McCain's Speech\n",
      "South Carolina Sen. Lindsey Graham\n",
      "Gov. Sarah Palin At The RNC\n",
      "Former New York Mayor Rudy Giuliani\n",
      "Mike Huckabee At The RNC\n",
      "Mitt Romney At The RNC\n",
      "President Bush At The RNC\n",
      "Former Sen. Fred Thompson's Speech\n",
      "Sen. Joseph Lieberman's Speech\n"
     ]
    }
   ],
   "source": [
    "# Get Speech titles\n",
    "titles = []\n",
    "for article in soup.findAll('h2', class_='title'):\n",
    "    titles.append(article.text[12:])\n",
    "print(titles)\n",
    "\n",
    "for title in titles:\n",
    "    print(title)"
   ]
  },
  {
   "cell_type": "code",
   "execution_count": 88,
   "metadata": {
    "scrolled": true
   },
   "outputs": [
    {
     "name": "stdout",
     "output_type": "stream",
     "text": [
      "John McCain's Speech https://www.npr.org/templates/story/story.php?storyId=94302894\n",
      "Cindy McCain's Speech https://www.npr.org/templates/story/story.php?storyId=94301516\n",
      "South Carolina Sen. Lindsey Graham https://www.npr.org/templates/story/story.php?storyId=94303964\n",
      "Gov. Sarah Palin At The RNC https://www.npr.org/templates/story/story.php?storyId=94258995\n",
      "Former New York Mayor Rudy Giuliani https://www.npr.org/templates/story/story.php?storyId=94254610\n",
      "Mike Huckabee At The RNC https://www.npr.org/templates/story/story.php?storyId=94256318\n",
      "Mitt Romney At The RNC https://www.npr.org/templates/story/story.php?storyId=94254989\n",
      "President Bush At The RNC https://www.npr.org/templates/story/story.php?storyId=94215430\n",
      "Former Sen. Fred Thompson's Speech https://www.npr.org/templates/story/story.php?storyId=94215026\n",
      "Sen. Joseph Lieberman's Speech https://www.npr.org/templates/story/story.php?storyId=94213979\n"
     ]
    }
   ],
   "source": [
    "# Make dict with speech titles and links\n",
    "speech_dict = dict(zip(titles, links))\n",
    "for title,speech in speech_dict.itemsn():\n",
    "    print(title, speech)"
   ]
  },
  {
   "cell_type": "code",
   "execution_count": 111,
   "metadata": {},
   "outputs": [],
   "source": [
    "path = 'C:\\Users\\Aaron\\Desktop\\Projects\\PoliticalParty\\Speeches\\Republican'\n",
    "for title,link in speech_dict.items():\n",
    "    speech = requests.get(link).text\n",
    "    soup = BeautifulSoup(speech, 'lxml')\n",
    "    \n",
    "    f = open(str(title) + '.txt', 'w')\n",
    "    for paragraph in soup.findAll('p')[1:-2]:\n",
    "        paragraphs.append(paragraph.text)\n",
    "        f.write(paragraph.text)\n",
    "    f.close()"
   ]
  },
  {
   "cell_type": "code",
   "execution_count": 147,
   "metadata": {},
   "outputs": [],
   "source": [
    "def scrape_NPR(npr_url, party):\n",
    "    '''\n",
    "    Scrape NPR speech page and write speeches to text files\n",
    "    npr_url: url of speech list\n",
    "    party: Democrat or Republican\n",
    "    '''\n",
    "    source = requests.get(npr_url).text\n",
    "    soup = BeautifulSoup(source, 'lxml')\n",
    "    \n",
    "    \n",
    "    links = []\n",
    "    for link in soup.findAll('a', attrs={'href': re.compile(\"https://www.npr.org/templates/story\")}):\n",
    "        links.append(link.get('href'))\n",
    "\n",
    "    # This method appends duplicates to the links list. Remove those\n",
    "    links = list(OrderedDict.fromkeys(links))\n",
    "    \n",
    "    # Get Speech titles\n",
    "    titles = []\n",
    "    for article in soup.findAll('h2', class_='title'):\n",
    "        titles.append(article.text[12:])\n",
    "        \n",
    "    # Make dict with speech titles and links\n",
    "    speech_dict = dict(zip(titles, links))\n",
    "    for title,speech in speech_dict.items():\n",
    "        print(title, speech)\n",
    "        \n",
    "    path = \"C:\\\\Users\\\\Aaron\\\\Desktop\\\\Projects\\\\PoliticalParty\\\\Speeches\\\\\"\n",
    "    for title,link in speech_dict.items():\n",
    "        speech = requests.get(link).text\n",
    "        soup = BeautifulSoup(speech, 'lxml')\n",
    "    \n",
    "        f = open(path + str(party) + \"\\\\\" + str(title) + '.txt', 'w')\n",
    "        for paragraph in soup.findAll('p')[1:-2]:\n",
    "            paragraphs.append(paragraph.text)\n",
    "            f.write(paragraph.text)\n",
    "        f.close()\n",
    "        \n",
    "    print('Done!', '\\n')\n",
    "        \n",
    "    return None\n"
   ]
  },
  {
   "cell_type": "code",
   "execution_count": 148,
   "metadata": {
    "scrolled": true
   },
   "outputs": [
    {
     "name": "stdout",
     "output_type": "stream",
     "text": [
      "John McCain's Speech https://www.npr.org/templates/story/story.php?storyId=94302894\n",
      "Cindy McCain's Speech https://www.npr.org/templates/story/story.php?storyId=94301516\n",
      "South Carolina Sen. Lindsey Graham https://www.npr.org/templates/story/story.php?storyId=94303964\n",
      "Gov. Sarah Palin At The RNC https://www.npr.org/templates/story/story.php?storyId=94258995\n",
      "Former New York Mayor Rudy Giuliani https://www.npr.org/templates/story/story.php?storyId=94254610\n",
      "Mike Huckabee At The RNC https://www.npr.org/templates/story/story.php?storyId=94256318\n",
      "Mitt Romney At The RNC https://www.npr.org/templates/story/story.php?storyId=94254989\n",
      "President Bush At The RNC https://www.npr.org/templates/story/story.php?storyId=94215430\n",
      "Former Sen. Fred Thompson's Speech https://www.npr.org/templates/story/story.php?storyId=94215026\n",
      "Sen. Joseph Lieberman's Speech https://www.npr.org/templates/story/story.php?storyId=94213979\n",
      "Done! \n",
      "\n",
      "Barack Obama's Acceptance Speech https://www.npr.org/templates/story/story.php?storyId=94087570\n",
      "Al Gore's Speech https://www.npr.org/templates/story/story.php?storyId=94086892\n",
      "John Lewis Introduces Tribute To King https://www.npr.org/templates/story/story.php?storyId=94084900\n",
      "Joe Biden's Acceptance Speech https://www.npr.org/templates/story/story.php?storyId=94048033\n",
      "Sen. John Kerry On Foreign Policy https://www.npr.org/templates/story/story.php?storyId=94046070\n",
      "Bill Clinton's Prime-Time Speech https://www.npr.org/templates/story/story.php?storyId=94045962\n",
      "Hillary Clinton's Prime-Time Speech https://www.npr.org/templates/story/story.php?storyId=94003143\n",
      "Mark Warner's Convention Speech https://www.npr.org/templates/story/story.php?storyId=94003032\n",
      "Michelle Obama's Convention Speech https://www.npr.org/templates/story/story.php?storyId=93963863\n",
      "Jesse Jackson Jr.'s Speech https://www.npr.org/templates/story/story.php?storyId=93962944\n",
      "Done! \n",
      "\n"
     ]
    }
   ],
   "source": [
    "scrape_NPR('https://www.npr.org/series/94216845/speeches-from-the-republican-convention', party='Republican')\n",
    "scrape_NPR('https://www.npr.org/series/94070408/speeches-from-the-democratic-convention', party='Democrat')"
   ]
  },
  {
   "cell_type": "code",
   "execution_count": null,
   "metadata": {},
   "outputs": [],
   "source": []
  }
 ],
 "metadata": {
  "kernelspec": {
   "display_name": "Python 3",
   "language": "python",
   "name": "python3"
  },
  "language_info": {
   "codemirror_mode": {
    "name": "ipython",
    "version": 3
   },
   "file_extension": ".py",
   "mimetype": "text/x-python",
   "name": "python",
   "nbconvert_exporter": "python",
   "pygments_lexer": "ipython3",
   "version": "3.6.5"
  }
 },
 "nbformat": 4,
 "nbformat_minor": 2
}
